{
 "cells": [
  {
   "cell_type": "code",
   "execution_count": 3,
   "metadata": {},
   "outputs": [],
   "source": [
    "import streamlit as st\n",
    "import pandas as pd\n",
    "import numpy as np\n",
    "import plotly.express as px\n"
   ]
  },
  {
   "cell_type": "code",
   "execution_count": null,
   "metadata": {},
   "outputs": [],
   "source": [
    "folder =\"/exports/igmm/eddie/UK-BioBank-53116/users/kelsey/short_ESR1_run/ESR1_full_negative_controls/weighted_fluctuation\"\n",
    "def bQTLs_data(config_filename=\"nextflow.config\"):\n",
    "    params = load_pipeline_params(os.path.join(st.session_state.nextflow_rundir, config_filename))\n",
    "\n",
    "    bqtls_filepath = os.path.join(st.session_state.nextflow_rundir, params[\"BQTLS\"])\n",
    "\n",
    "    if os.path.exists(bqtls_filepath):\n",
    "        return pd.read_csv(bqtls_filepath, sep='\\s+')\n",
    "    return None"
   ]
  },
  {
   "cell_type": "code",
   "execution_count": 4,
   "metadata": {},
   "outputs": [],
   "source": [
    "def result_file(nextflow_rundir):\n",
    "    return os.path.join(nextflow_rundir, \"preliminary_results.csv\")\n",
    "\n",
    "def raw_data_file(nextflow_rundir):\n",
    "    return os.path.join(nextflow_rundir, \"results\", \"tmle_inputs\", \"final.data.csv\")\n"
   ]
  },
  {
   "cell_type": "code",
   "execution_count": 5,
   "metadata": {},
   "outputs": [],
   "source": [
    "def http_variant_info(rsid):\n",
    "    url = \"\".join((\n",
    "        ENSEMBL_URL,\n",
    "        \"/variation/human/\",\n",
    "        rsid,\n",
    "        \"?\",\n",
    "        \"phenotypes=1\"\n",
    "    ))\n",
    "    return requests.get(url, headers={ \"Content-Type\": \"application/json\"}).json()\n"
   ]
  },
  {
   "cell_type": "code",
   "execution_count": 6,
   "metadata": {},
   "outputs": [],
   "source": [
    "def http_ensemble_annotations(\n",
    "        chr, start, end, \n",
    "        distance=100, \n",
    "        features=(\"gene\", \"regulatory\", \"motif\")\n",
    "        ):\n",
    "    url = \"\".join((\n",
    "        ENSEMBL_URL,\n",
    "        \"/overlap/region/human/\", \n",
    "        chr, \n",
    "        \":\", \n",
    "        str(start - distance), \n",
    "        \"-\", \n",
    "        str(end + distance),\n",
    "        \"?\", \n",
    "        \";\".join(\"\".join((\"feature=\", f)) for f in features)\n",
    "    ))\n",
    "    return requests.get(url, headers={\"Content-Type\": \"application/json\"}).json()\n",
    "\n",
    "\n",
    "bqtls_data = bQTLs_data()\n",
    "\n",
    "data = filter(load_data(bqtls_data, results_file), mt_method, pvalue, \"None\", \"None\", \"None\")\n",
    "\n",
    "\n",
    "bqtl_str = st.selectbox(\"Select bQTL (# Trait hits)\", bqtls_hit_counts(data))\n",
    "bqtl = bqtl_str.split(\" (\")[0]\n",
    "# Display SNP base info\n",
    "basesnpinfo = SNPinfo(bqtl, bqtls_data)\n"
   ]
  },
  {
   "cell_type": "code",
   "execution_count": 7,
   "metadata": {},
   "outputs": [],
   "source": [
    "def look_up_variant_gtex(gtex, variant_code_b38_ref_alt, selection):\n",
    "    gtex.columns = pd.MultiIndex.from_frame(\n",
    "        pd.DataFrame(\n",
    "            gtex\n",
    "            .columns\n",
    "            .str\n",
    "            .split(\"_\", n=1)\n",
    "            .to_list()\n",
    "        )\n",
    "    )\n",
    "\n",
    "    # accessing tissue\n",
    "    tissue =  gtex.columns.get_level_values(1)\n",
    "\n",
    "    return gtex.loc[:, tissue == selection]"
   ]
  },
  {
   "cell_type": "code",
   "execution_count": 8,
   "metadata": {},
   "outputs": [],
   "source": [
    "def SNPinfo(rsid, bqtls_data):\n",
    "    response = http_variant_info(rsid)\n",
    "    st.write(response)\n",
    "    mapping_1 = response[\"mappings\"][0]\n",
    "    variant_row = bqtls_data[bqtls_data.ID == rsid].iloc[0]\n",
    "    st.write(bqtls_data[bqtls_data.ID == rsid])\n",
    "    chr, start, end = location_from_str(mapping_1[\"location\"])\n",
    "    if variant_row[\"REF.counts\"] > variant_row[\"ALT.counts\"]:\n",
    "        binding_allele = variant_row.REF + \" (\" + str(variant_row[\"REF.counts\"]) + \")\"\n",
    "        non_binding_allele = variant_row.ALT + \" (\" + str(variant_row[\"ALT.counts\"]) + \")\"\n",
    "    else:\n",
    "        non_binding_allele = variant_row.REF + \" (\" + str(variant_row[\"REF.counts\"]) + \")\"\n",
    "        binding_allele = variant_row.ALT + \" (\" + str(variant_row[\"ALT.counts\"]) + \")\"\n",
    "    \n",
    "    basesnpinfo = {\n",
    "        \"Binding Allele (Counts)\": binding_allele,\n",
    "        \"Non-Binding Allele (Counts)\": non_binding_allele,\n",
    "        \"REF Allele\": variant_row.REF,\n",
    "        \"ALT Allele\": variant_row.ALT,\n",
    "        \"Chromosome\": [chr],\n",
    "        \"Start\": [start],\n",
    "        \"End\": [end],\n",
    "        \"Strand\": [mapping_1[\"strand\"]],\n",
    "        \"Ensembl Alleles\": [mapping_1[\"allele_string\"]],\n",
    "        \"Ensembl Minor Allele\": [response[\"minor_allele\"]],\n",
    "        \"Ensembl MAF\": [response[\"MAF\"]],\n",
    "        \"Ensembl Ancestral Allele\": [mapping_1[\"ancestral_allele\"]],\n",
    "    }\n",
    "\n",
    "    \n",
    "    return basesnpinfo"
   ]
  }
 ],
 "metadata": {
  "kernelspec": {
   "display_name": "bgen_import",
   "language": "python",
   "name": "python3"
  },
  "language_info": {
   "codemirror_mode": {
    "name": "ipython",
    "version": 3
   },
   "file_extension": ".py",
   "mimetype": "text/x-python",
   "name": "python",
   "nbconvert_exporter": "python",
   "pygments_lexer": "ipython3",
   "version": "3.12.1"
  },
  "orig_nbformat": 4
 },
 "nbformat": 4,
 "nbformat_minor": 2
}
